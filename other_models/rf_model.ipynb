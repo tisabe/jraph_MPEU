{
 "cells": [
  {
   "cell_type": "code",
   "execution_count": 1,
   "id": "bfddcad8",
   "metadata": {},
   "outputs": [
    {
     "data": {
      "text/html": [
       "<div>\n",
       "<style scoped>\n",
       "    .dataframe tbody tr th:only-of-type {\n",
       "        vertical-align: middle;\n",
       "    }\n",
       "\n",
       "    .dataframe tbody tr th {\n",
       "        vertical-align: top;\n",
       "    }\n",
       "\n",
       "    .dataframe thead th {\n",
       "        text-align: right;\n",
       "    }\n",
       "</style>\n",
       "<table border=\"1\" class=\"dataframe\">\n",
       "  <thead>\n",
       "    <tr style=\"text-align: right;\">\n",
       "      <th></th>\n",
       "      <th>spacegroup_relax</th>\n",
       "      <th>Egap</th>\n",
       "      <th>ldau_type</th>\n",
       "      <th>energy_cutoff</th>\n",
       "      <th>energy_atom</th>\n",
       "      <th>density</th>\n",
       "      <th>volume_cell</th>\n",
       "    </tr>\n",
       "  </thead>\n",
       "  <tbody>\n",
       "    <tr>\n",
       "      <th>count</th>\n",
       "      <td>9256.000000</td>\n",
       "      <td>9256.000000</td>\n",
       "      <td>9256.000000</td>\n",
       "      <td>9256.000000</td>\n",
       "      <td>9256.000000</td>\n",
       "      <td>9256.000000</td>\n",
       "      <td>9256.000000</td>\n",
       "    </tr>\n",
       "    <tr>\n",
       "      <th>mean</th>\n",
       "      <td>103.097882</td>\n",
       "      <td>1.268404</td>\n",
       "      <td>1.493086</td>\n",
       "      <td>510.544911</td>\n",
       "      <td>-4.978751</td>\n",
       "      <td>4.877792</td>\n",
       "      <td>408.635160</td>\n",
       "    </tr>\n",
       "    <tr>\n",
       "      <th>std</th>\n",
       "      <td>76.780812</td>\n",
       "      <td>0.425912</td>\n",
       "      <td>0.870028</td>\n",
       "      <td>155.573732</td>\n",
       "      <td>1.630500</td>\n",
       "      <td>1.722004</td>\n",
       "      <td>391.813904</td>\n",
       "    </tr>\n",
       "    <tr>\n",
       "      <th>min</th>\n",
       "      <td>1.000000</td>\n",
       "      <td>0.500400</td>\n",
       "      <td>0.000000</td>\n",
       "      <td>228.300000</td>\n",
       "      <td>-11.273700</td>\n",
       "      <td>0.782568</td>\n",
       "      <td>18.875600</td>\n",
       "    </tr>\n",
       "    <tr>\n",
       "      <th>25%</th>\n",
       "      <td>19.000000</td>\n",
       "      <td>0.904600</td>\n",
       "      <td>0.000000</td>\n",
       "      <td>392.000000</td>\n",
       "      <td>-6.202512</td>\n",
       "      <td>3.684633</td>\n",
       "      <td>142.089250</td>\n",
       "    </tr>\n",
       "    <tr>\n",
       "      <th>50%</th>\n",
       "      <td>82.000000</td>\n",
       "      <td>1.273550</td>\n",
       "      <td>2.000000</td>\n",
       "      <td>560.000000</td>\n",
       "      <td>-4.853010</td>\n",
       "      <td>4.691305</td>\n",
       "      <td>284.405500</td>\n",
       "    </tr>\n",
       "    <tr>\n",
       "      <th>75%</th>\n",
       "      <td>167.000000</td>\n",
       "      <td>1.638525</td>\n",
       "      <td>2.000000</td>\n",
       "      <td>560.000000</td>\n",
       "      <td>-3.787157</td>\n",
       "      <td>5.953200</td>\n",
       "      <td>541.149750</td>\n",
       "    </tr>\n",
       "    <tr>\n",
       "      <th>max</th>\n",
       "      <td>230.000000</td>\n",
       "      <td>2.000000</td>\n",
       "      <td>2.000000</td>\n",
       "      <td>980.000000</td>\n",
       "      <td>0.826401</td>\n",
       "      <td>13.319700</td>\n",
       "      <td>3709.970000</td>\n",
       "    </tr>\n",
       "  </tbody>\n",
       "</table>\n",
       "</div>"
      ],
      "text/plain": [
       "       spacegroup_relax         Egap    ldau_type  energy_cutoff  energy_atom  \\\n",
       "count       9256.000000  9256.000000  9256.000000    9256.000000  9256.000000   \n",
       "mean         103.097882     1.268404     1.493086     510.544911    -4.978751   \n",
       "std           76.780812     0.425912     0.870028     155.573732     1.630500   \n",
       "min            1.000000     0.500400     0.000000     228.300000   -11.273700   \n",
       "25%           19.000000     0.904600     0.000000     392.000000    -6.202512   \n",
       "50%           82.000000     1.273550     2.000000     560.000000    -4.853010   \n",
       "75%          167.000000     1.638525     2.000000     560.000000    -3.787157   \n",
       "max          230.000000     2.000000     2.000000     980.000000     0.826401   \n",
       "\n",
       "           density  volume_cell  \n",
       "count  9256.000000  9256.000000  \n",
       "mean      4.877792   408.635160  \n",
       "std       1.722004   391.813904  \n",
       "min       0.782568    18.875600  \n",
       "25%       3.684633   142.089250  \n",
       "50%       4.691305   284.405500  \n",
       "75%       5.953200   541.149750  \n",
       "max      13.319700  3709.970000  "
      ]
     },
     "execution_count": 1,
     "metadata": {},
     "output_type": "execute_result"
    }
   ],
   "source": [
    "\"\"\"Create a random forest model using the elemental features.\"\"\"\n",
    "\n",
    "import pandas as pd\n",
    "csv_data_source = '/home/dts/Documents/hu/jraph_MPEU/other_models/test_aflow_data.csv'\n",
    "\n",
    "# Read the data into a dataframe:\n",
    "aflow_df = pd.read_csv(csv_data_source, index_col=0)\n",
    "\n",
    "aflow_df.describe()"
   ]
  },
  {
   "cell_type": "code",
   "execution_count": 2,
   "id": "43752eed",
   "metadata": {},
   "outputs": [
    {
     "data": {
      "text/html": [
       "<div>\n",
       "<style scoped>\n",
       "    .dataframe tbody tr th:only-of-type {\n",
       "        vertical-align: middle;\n",
       "    }\n",
       "\n",
       "    .dataframe tbody tr th {\n",
       "        vertical-align: top;\n",
       "    }\n",
       "\n",
       "    .dataframe thead th {\n",
       "        text-align: right;\n",
       "    }\n",
       "</style>\n",
       "<table border=\"1\" class=\"dataframe\">\n",
       "  <thead>\n",
       "    <tr style=\"text-align: right;\">\n",
       "      <th></th>\n",
       "      <th>EA_half</th>\n",
       "      <th>IP_half</th>\n",
       "      <th>EA_delta</th>\n",
       "      <th>IP_delta</th>\n",
       "      <th>HOMO</th>\n",
       "      <th>LUMO</th>\n",
       "      <th>rs</th>\n",
       "      <th>s index</th>\n",
       "      <th>rp</th>\n",
       "      <th>p index</th>\n",
       "      <th>rd</th>\n",
       "      <th>d index</th>\n",
       "      <th>rf</th>\n",
       "      <th>f index</th>\n",
       "    </tr>\n",
       "  </thead>\n",
       "  <tbody>\n",
       "    <tr>\n",
       "      <th>count</th>\n",
       "      <td>102.000000</td>\n",
       "      <td>102.000000</td>\n",
       "      <td>102.000000</td>\n",
       "      <td>102.000000</td>\n",
       "      <td>102.000000</td>\n",
       "      <td>102.000000</td>\n",
       "      <td>102.000000</td>\n",
       "      <td>102.000000</td>\n",
       "      <td>102.000000</td>\n",
       "      <td>102.000000</td>\n",
       "      <td>102.000000</td>\n",
       "      <td>102.000000</td>\n",
       "      <td>102.000000</td>\n",
       "      <td>102.000000</td>\n",
       "    </tr>\n",
       "    <tr>\n",
       "      <th>mean</th>\n",
       "      <td>-0.133439</td>\n",
       "      <td>8.005121</td>\n",
       "      <td>-0.276244</td>\n",
       "      <td>7.872389</td>\n",
       "      <td>-4.412885</td>\n",
       "      <td>-2.309800</td>\n",
       "      <td>1.406116</td>\n",
       "      <td>25.156863</td>\n",
       "      <td>1.647025</td>\n",
       "      <td>28.127451</td>\n",
       "      <td>1.383523</td>\n",
       "      <td>26.362745</td>\n",
       "      <td>0.186491</td>\n",
       "      <td>11.098039</td>\n",
       "    </tr>\n",
       "    <tr>\n",
       "      <th>std</th>\n",
       "      <td>1.359551</td>\n",
       "      <td>3.559766</td>\n",
       "      <td>1.343094</td>\n",
       "      <td>3.666094</td>\n",
       "      <td>2.365497</td>\n",
       "      <td>1.747167</td>\n",
       "      <td>0.506212</td>\n",
       "      <td>14.989597</td>\n",
       "      <td>0.779726</td>\n",
       "      <td>17.167591</td>\n",
       "      <td>1.666488</td>\n",
       "      <td>14.852269</td>\n",
       "      <td>0.681919</td>\n",
       "      <td>17.397798</td>\n",
       "    </tr>\n",
       "    <tr>\n",
       "      <th>min</th>\n",
       "      <td>-3.640255</td>\n",
       "      <td>3.862009</td>\n",
       "      <td>-3.854484</td>\n",
       "      <td>-1.081840</td>\n",
       "      <td>-15.794577</td>\n",
       "      <td>-7.092348</td>\n",
       "      <td>0.296000</td>\n",
       "      <td>1.000000</td>\n",
       "      <td>0.253600</td>\n",
       "      <td>3.000000</td>\n",
       "      <td>0.217800</td>\n",
       "      <td>7.000000</td>\n",
       "      <td>0.000000</td>\n",
       "      <td>0.000000</td>\n",
       "    </tr>\n",
       "    <tr>\n",
       "      <th>25%</th>\n",
       "      <td>-0.729464</td>\n",
       "      <td>5.777463</td>\n",
       "      <td>-0.823264</td>\n",
       "      <td>5.710877</td>\n",
       "      <td>-5.509590</td>\n",
       "      <td>-3.280970</td>\n",
       "      <td>1.011200</td>\n",
       "      <td>15.000000</td>\n",
       "      <td>1.017175</td>\n",
       "      <td>16.000000</td>\n",
       "      <td>0.547950</td>\n",
       "      <td>11.000000</td>\n",
       "      <td>0.000000</td>\n",
       "      <td>0.000000</td>\n",
       "    </tr>\n",
       "    <tr>\n",
       "      <th>50%</th>\n",
       "      <td>-0.146451</td>\n",
       "      <td>6.960471</td>\n",
       "      <td>-0.293942</td>\n",
       "      <td>6.968635</td>\n",
       "      <td>-3.744841</td>\n",
       "      <td>-2.088304</td>\n",
       "      <td>1.424900</td>\n",
       "      <td>24.000000</td>\n",
       "      <td>1.714200</td>\n",
       "      <td>25.000000</td>\n",
       "      <td>1.062300</td>\n",
       "      <td>20.000000</td>\n",
       "      <td>0.000000</td>\n",
       "      <td>0.000000</td>\n",
       "    </tr>\n",
       "    <tr>\n",
       "      <th>75%</th>\n",
       "      <td>0.577931</td>\n",
       "      <td>8.862555</td>\n",
       "      <td>0.386024</td>\n",
       "      <td>8.922061</td>\n",
       "      <td>-2.787848</td>\n",
       "      <td>-1.328261</td>\n",
       "      <td>1.800150</td>\n",
       "      <td>40.000000</td>\n",
       "      <td>2.285250</td>\n",
       "      <td>41.000000</td>\n",
       "      <td>1.338225</td>\n",
       "      <td>36.000000</td>\n",
       "      <td>0.275100</td>\n",
       "      <td>28.000000</td>\n",
       "    </tr>\n",
       "    <tr>\n",
       "      <th>max</th>\n",
       "      <td>3.747625</td>\n",
       "      <td>26.826802</td>\n",
       "      <td>3.744398</td>\n",
       "      <td>27.066837</td>\n",
       "      <td>-1.397061</td>\n",
       "      <td>2.031140</td>\n",
       "      <td>2.571500</td>\n",
       "      <td>51.000000</td>\n",
       "      <td>4.467100</td>\n",
       "      <td>57.000000</td>\n",
       "      <td>9.999900</td>\n",
       "      <td>55.000000</td>\n",
       "      <td>6.721800</td>\n",
       "      <td>53.000000</td>\n",
       "    </tr>\n",
       "  </tbody>\n",
       "</table>\n",
       "</div>"
      ],
      "text/plain": [
       "          EA_half     IP_half    EA_delta    IP_delta        HOMO        LUMO  \\\n",
       "count  102.000000  102.000000  102.000000  102.000000  102.000000  102.000000   \n",
       "mean    -0.133439    8.005121   -0.276244    7.872389   -4.412885   -2.309800   \n",
       "std      1.359551    3.559766    1.343094    3.666094    2.365497    1.747167   \n",
       "min     -3.640255    3.862009   -3.854484   -1.081840  -15.794577   -7.092348   \n",
       "25%     -0.729464    5.777463   -0.823264    5.710877   -5.509590   -3.280970   \n",
       "50%     -0.146451    6.960471   -0.293942    6.968635   -3.744841   -2.088304   \n",
       "75%      0.577931    8.862555    0.386024    8.922061   -2.787848   -1.328261   \n",
       "max      3.747625   26.826802    3.744398   27.066837   -1.397061    2.031140   \n",
       "\n",
       "               rs     s index          rp     p index          rd     d index  \\\n",
       "count  102.000000  102.000000  102.000000  102.000000  102.000000  102.000000   \n",
       "mean     1.406116   25.156863    1.647025   28.127451    1.383523   26.362745   \n",
       "std      0.506212   14.989597    0.779726   17.167591    1.666488   14.852269   \n",
       "min      0.296000    1.000000    0.253600    3.000000    0.217800    7.000000   \n",
       "25%      1.011200   15.000000    1.017175   16.000000    0.547950   11.000000   \n",
       "50%      1.424900   24.000000    1.714200   25.000000    1.062300   20.000000   \n",
       "75%      1.800150   40.000000    2.285250   41.000000    1.338225   36.000000   \n",
       "max      2.571500   51.000000    4.467100   57.000000    9.999900   55.000000   \n",
       "\n",
       "               rf     f index  \n",
       "count  102.000000  102.000000  \n",
       "mean     0.186491   11.098039  \n",
       "std      0.681919   17.397798  \n",
       "min      0.000000    0.000000  \n",
       "25%      0.000000    0.000000  \n",
       "50%      0.000000    0.000000  \n",
       "75%      0.275100   28.000000  \n",
       "max      6.721800   53.000000  "
      ]
     },
     "execution_count": 2,
     "metadata": {},
     "output_type": "execute_result"
    }
   ],
   "source": [
    "atomic_data_csv = '/home/dts/Documents/hu/jraph_MPEU/other_models/really_tight_full_cut20_revpbe.csv'\n",
    "atomic_data_df = pd.read_csv(atomic_data_csv, index_col=0)\n",
    "atomic_data_df.describe()"
   ]
  },
  {
   "cell_type": "code",
   "execution_count": 3,
   "id": "53fa9d69",
   "metadata": {},
   "outputs": [
    {
     "name": "stdout",
     "output_type": "stream",
     "text": [
      "Index(['compound', 'auid', 'aurl', 'spacegroup_relax', 'Pearson_symbol_relax',\n",
      "       'Egap', 'catalog', 'dft_type', 'ldau_type', 'energy_cutoff',\n",
      "       'energy_atom', 'density', 'volume_cell'],\n",
      "      dtype='object')\n"
     ]
    }
   ],
   "source": [
    "# Make sure we have all of the AFLOW columns:\n",
    "\n",
    "print(aflow_df.columns)"
   ]
  },
  {
   "cell_type": "code",
   "execution_count": 87,
   "id": "2bdf99e5",
   "metadata": {},
   "outputs": [],
   "source": [
    "# Ok now we want to create a new dataframe with the atomic features added in.\n",
    "# Import our data prep module.\n",
    "import data_prep as dp\n",
    "\n",
    "\n",
    "data_prep_obj = dp.DataPrep(\n",
    "    ase_db_path='/None',\n",
    "    functional='pbe')\n",
    "\n",
    "features_list = ['EA_half', 'IP_half', 'HOMO', 'LUMO', 'rs', 'rp']\n",
    "compound_name_list = aflow_df['compound']\n",
    "\n",
    "feature_engineered_data_df_with_compound = data_prep_obj.get_features_df(\n",
    "    compound_name_list=compound_name_list, features_list=features_list)\n"
   ]
  },
  {
   "cell_type": "code",
   "execution_count": 88,
   "id": "7176a620",
   "metadata": {},
   "outputs": [
    {
     "name": "stdout",
     "output_type": "stream",
     "text": [
      "Index(['level_0', 'index', 'EA_half_bar', 'EA_half_hat', 'IP_delta_bar',\n",
      "       'IP_delta_hat'],\n",
      "      dtype='object')\n"
     ]
    }
   ],
   "source": [
    "print(feature_engineered_data_df.columns)\n",
    "feature_engineered_data_df = feature_engineered_data_df_with_compound.drop(columns=['compound_name'])\n",
    "\n",
    "y_data = aflow_df['Egap']"
   ]
  },
  {
   "cell_type": "code",
   "execution_count": 52,
   "id": "b15f83b4",
   "metadata": {},
   "outputs": [
    {
     "data": {
      "text/html": [
       "<div>\n",
       "<style scoped>\n",
       "    .dataframe tbody tr th:only-of-type {\n",
       "        vertical-align: middle;\n",
       "    }\n",
       "\n",
       "    .dataframe tbody tr th {\n",
       "        vertical-align: top;\n",
       "    }\n",
       "\n",
       "    .dataframe thead th {\n",
       "        text-align: right;\n",
       "    }\n",
       "</style>\n",
       "<table border=\"1\" class=\"dataframe\">\n",
       "  <thead>\n",
       "    <tr style=\"text-align: right;\">\n",
       "      <th></th>\n",
       "      <th>EA_half_bar</th>\n",
       "      <th>EA_half_hat</th>\n",
       "      <th>IP_delta_bar</th>\n",
       "      <th>IP_delta_hat</th>\n",
       "    </tr>\n",
       "  </thead>\n",
       "  <tbody>\n",
       "    <tr>\n",
       "      <th>count</th>\n",
       "      <td>9256.000000</td>\n",
       "      <td>9256.000000</td>\n",
       "      <td>9256.000000</td>\n",
       "      <td>9256.000000</td>\n",
       "    </tr>\n",
       "    <tr>\n",
       "      <th>mean</th>\n",
       "      <td>-1.208150</td>\n",
       "      <td>0.774384</td>\n",
       "      <td>9.680761</td>\n",
       "      <td>2.301876</td>\n",
       "    </tr>\n",
       "    <tr>\n",
       "      <th>std</th>\n",
       "      <td>0.669896</td>\n",
       "      <td>0.406184</td>\n",
       "      <td>1.853406</td>\n",
       "      <td>1.288209</td>\n",
       "    </tr>\n",
       "    <tr>\n",
       "      <th>min</th>\n",
       "      <td>-3.582329</td>\n",
       "      <td>0.000000</td>\n",
       "      <td>0.279914</td>\n",
       "      <td>0.000000</td>\n",
       "    </tr>\n",
       "    <tr>\n",
       "      <th>25%</th>\n",
       "      <td>-1.465844</td>\n",
       "      <td>0.507168</td>\n",
       "      <td>8.409876</td>\n",
       "      <td>1.377871</td>\n",
       "    </tr>\n",
       "    <tr>\n",
       "      <th>50%</th>\n",
       "      <td>-1.177709</td>\n",
       "      <td>0.724954</td>\n",
       "      <td>9.573205</td>\n",
       "      <td>2.144169</td>\n",
       "    </tr>\n",
       "    <tr>\n",
       "      <th>75%</th>\n",
       "      <td>-0.877113</td>\n",
       "      <td>1.027378</td>\n",
       "      <td>10.937456</td>\n",
       "      <td>3.098954</td>\n",
       "    </tr>\n",
       "    <tr>\n",
       "      <th>max</th>\n",
       "      <td>0.942956</td>\n",
       "      <td>2.579423</td>\n",
       "      <td>16.839823</td>\n",
       "      <td>8.192033</td>\n",
       "    </tr>\n",
       "  </tbody>\n",
       "</table>\n",
       "</div>"
      ],
      "text/plain": [
       "       EA_half_bar  EA_half_hat  IP_delta_bar  IP_delta_hat\n",
       "count  9256.000000  9256.000000   9256.000000   9256.000000\n",
       "mean     -1.208150     0.774384      9.680761      2.301876\n",
       "std       0.669896     0.406184      1.853406      1.288209\n",
       "min      -3.582329     0.000000      0.279914      0.000000\n",
       "25%      -1.465844     0.507168      8.409876      1.377871\n",
       "50%      -1.177709     0.724954      9.573205      2.144169\n",
       "75%      -0.877113     1.027378     10.937456      3.098954\n",
       "max       0.942956     2.579423     16.839823      8.192033"
      ]
     },
     "execution_count": 52,
     "metadata": {},
     "output_type": "execute_result"
    }
   ],
   "source": [
    "feature_engineered_data_df.describe()"
   ]
  },
  {
   "cell_type": "code",
   "execution_count": 53,
   "id": "fb554f67",
   "metadata": {},
   "outputs": [
    {
     "data": {
      "text/plain": [
       "Index(['EA_half_bar', 'EA_half_hat', 'IP_delta_bar', 'IP_delta_hat'], dtype='object')"
      ]
     },
     "execution_count": 53,
     "metadata": {},
     "output_type": "execute_result"
    }
   ],
   "source": [
    "feature_engineered_data_df.columns"
   ]
  },
  {
   "cell_type": "code",
   "execution_count": 54,
   "id": "bbc65cdb",
   "metadata": {},
   "outputs": [],
   "source": [
    "import numpy as np\n",
    "from sklearn.model_selection import train_test_split\n",
    "X_train, X_test, y_train, y_test = train_test_split(\n",
    "    feature_engineered_data_df, y_data, test_size=0.2, random_state=42)"
   ]
  },
  {
   "cell_type": "code",
   "execution_count": 55,
   "id": "3fc380a4",
   "metadata": {},
   "outputs": [
    {
     "data": {
      "text/plain": [
       "RandomForestRegressor(max_depth=50, random_state=42)"
      ]
     },
     "execution_count": 55,
     "metadata": {},
     "output_type": "execute_result"
    }
   ],
   "source": [
    "from sklearn.ensemble import RandomForestRegressor\n",
    "from sklearn.datasets import make_regression\n",
    "\n",
    "\n",
    "regr = RandomForestRegressor(max_depth=50, random_state=42)\n",
    "regr.fit(X_train, y_train)"
   ]
  },
  {
   "cell_type": "code",
   "execution_count": 56,
   "id": "59ff0f3c",
   "metadata": {},
   "outputs": [],
   "source": [
    "y_pred = regr.predict(X_test)"
   ]
  },
  {
   "cell_type": "code",
   "execution_count": 57,
   "id": "1b704d96",
   "metadata": {},
   "outputs": [
    {
     "name": "stdout",
     "output_type": "stream",
     "text": [
      "The mean absolute error of the fit is: 0.19399599942241136\n",
      "The mean root squared error of the fit is: 0.28860597130359533\n"
     ]
    }
   ],
   "source": [
    "# Now get statistics on the fit:\n",
    "\n",
    "from sklearn.metrics import mean_absolute_error\n",
    "from sklearn.metrics import mean_squared_error\n",
    "\n",
    "print(f'The mean absolute error of the fit is: {mean_absolute_error(y_test, y_pred)}')\n",
    "print(f'The mean root squared error of the fit is: {np.sqrt(mean_squared_error(y_test, y_pred))}')"
   ]
  },
  {
   "cell_type": "code",
   "execution_count": 58,
   "id": "a9eb99d6",
   "metadata": {},
   "outputs": [
    {
     "data": {
      "text/plain": [
       "[<matplotlib.lines.Line2D at 0x7fc9a64d1dd8>]"
      ]
     },
     "execution_count": 58,
     "metadata": {},
     "output_type": "execute_result"
    },
    {
     "data": {
      "image/png": "[encoded data removed]",
      "text/plain": [
       "<Figure size 432x288 with 1 Axes>"
      ]
     },
     "metadata": {
      "needs_background": "light"
     },
     "output_type": "display_data"
    }
   ],
   "source": [
    "import matplotlib.pyplot as plt\n",
    "\n",
    "plt.plot(y_test, y_pred, '.')\n",
    "plt.xlim([0.0, 2.5])\n",
    "plt.ylim([0.0, 2.5])\n",
    "plt.xlabel('True Band Gap (eV)')\n",
    "plt.ylabel('Predicted Band Gap (eV)')\n",
    "x = np.arange(0, 2.5, 0.1)\n",
    "plt.plot(x, x, '-')"
   ]
  },
  {
   "cell_type": "markdown",
   "id": "9daa9728",
   "metadata": {},
   "source": [
    "# What happens if we predict the mean"
   ]
  },
  {
   "cell_type": "code",
   "execution_count": 59,
   "id": "5a004b0f",
   "metadata": {},
   "outputs": [
    {
     "name": "stdout",
     "output_type": "stream",
     "text": [
      "The mean absolute error of predicting the mean is: 0.36110752654860545\n"
     ]
    }
   ],
   "source": [
    "# What happens if we simply predict the mean of the data? What MAE do we get?\n",
    "y_mean = np.mean(y_train)\n",
    "y_mean_vec = np.ones(len(y_test))*y_mean\n",
    "print(f'The mean absolute error of predicting the mean is: {mean_absolute_error(y_test, y_mean_vec)}')\n"
   ]
  },
  {
   "cell_type": "markdown",
   "id": "de2044c1",
   "metadata": {},
   "source": [
    "# Linear Model"
   ]
  },
  {
   "cell_type": "code",
   "execution_count": 97,
   "id": "6426575c",
   "metadata": {},
   "outputs": [
    {
     "name": "stdout",
     "output_type": "stream",
     "text": [
      " the regression test R2 score is: 0.08235754416807184\n",
      "The reg.coef_ is: [-0.02285932  0.0876495   0.02528481  0.0580379 ]\n",
      "The reg.intercept_ is {reg.intercept_}\n"
     ]
    }
   ],
   "source": [
    "import numpy as np\n",
    "from sklearn.linear_model import LinearRegression\n",
    "\n",
    "reg = LinearRegression().fit(X_train, y_train)\n",
    "print(f' the regression test R2 score is: {reg.score(X_test, y_test)}')\n",
    "print(f'The reg.coef_ is: {reg.coef_}')\n",
    "print('The reg.intercept_ is {reg.intercept_}')\n",
    "\n",
    "y_pred= reg.predict(X_test)"
   ]
  },
  {
   "cell_type": "code",
   "execution_count": 98,
   "id": "a44547fa",
   "metadata": {},
   "outputs": [
    {
     "name": "stdout",
     "output_type": "stream",
     "text": [
      "The mean absolute error of the fit is: 0.34693901362175134\n",
      "The mean root squared error of the fit is: 0.40558921670513887\n"
     ]
    },
    {
     "data": {
      "text/plain": [
       "[<matplotlib.lines.Line2D at 0x7fc9a3560b70>]"
      ]
     },
     "execution_count": 98,
     "metadata": {},
     "output_type": "execute_result"
    },
    {
     "data": {
      "image/png": "[encoded data removed]",
      "text/plain": [
       "<Figure size 432x288 with 1 Axes>"
      ]
     },
     "metadata": {
      "needs_background": "light"
     },
     "output_type": "display_data"
    }
   ],
   "source": [
    "print(f'The mean absolute error of the fit is: {mean_absolute_error(y_test, y_pred)}')\n",
    "print(f'The mean root squared error of the fit is: {np.sqrt(mean_squared_error(y_test, y_pred))}')\n",
    "import matplotlib.pyplot as plt\n",
    "\n",
    "plt.plot(y_test, y_pred, '.')\n",
    "plt.xlim([0.0, 2.5])\n",
    "plt.ylim([0.0, 2.5])\n",
    "plt.xlabel('True Band Gap (eV)')\n",
    "plt.ylabel('Predicted Band Gap (eV)')\n",
    "x = np.arange(0, 2.5, 0.1)\n",
    "plt.plot(x, x, '-')"
   ]
  },
  {
   "cell_type": "markdown",
   "id": "e36da137",
   "metadata": {},
   "source": [
    "# Correlation of Features"
   ]
  },
  {
   "cell_type": "code",
   "execution_count": 93,
   "id": "59ac5214",
   "metadata": {},
   "outputs": [
    {
     "name": "stdout",
     "output_type": "stream",
     "text": [
      "<class 'str'>\n",
      "Index(['EA_half_bar', 'EA_half_hat', 'IP_delta_bar', 'IP_delta_hat',\n",
      "       'compound'],\n",
      "      dtype='object')\n",
      "Index(['EA_half_bar', 'EA_half_hat', 'IP_delta_bar', 'IP_delta_hat',\n",
      "       'compound', 'level_0', 'index', 'auid', 'aurl', 'spacegroup_relax',\n",
      "       'Pearson_symbol_relax', 'Egap', 'catalog', 'dft_type', 'ldau_type',\n",
      "       'energy_cutoff', 'energy_atom', 'density', 'volume_cell'],\n",
      "      dtype='object')\n",
      "Index(['EA_half_bar', 'EA_half_hat', 'IP_delta_bar', 'IP_delta_hat', 'Egap',\n",
      "       'energy_cutoff', 'density', 'volume_cell'],\n",
      "      dtype='object')\n",
      "       EA_half_bar  EA_half_hat  IP_delta_bar  IP_delta_hat    Egap  \\\n",
      "0        -1.350454     0.451128      9.935426      1.811220  0.5004   \n",
      "1        -1.350454     0.451128      9.935426      1.811220  0.5246   \n",
      "2        -1.350454     0.451128      9.935426      1.811220  0.5260   \n",
      "3        -1.350454     0.451128      9.935426      1.811220  0.5414   \n",
      "4        -1.350454     0.451128      9.935426      1.811220  0.5004   \n",
      "...            ...          ...           ...           ...     ...   \n",
      "53733    -2.078733     1.079030     11.076569      1.378338  1.9987   \n",
      "53734    -1.541141     0.088605     11.790812      2.356071  1.9992   \n",
      "53735    -0.975351     0.842993     11.257877      3.066651  1.9993   \n",
      "53736    -1.544882     0.182035     11.273417      2.855560  1.9996   \n",
      "53737    -0.904702     0.930187     11.060617      2.774720  1.9999   \n",
      "\n",
      "       energy_cutoff  density  volume_cell  \n",
      "0              560.0  8.55326      142.688  \n",
      "1              560.0  8.59036      142.072  \n",
      "2              560.0  8.58510      142.159  \n",
      "3              560.0  8.59912      141.927  \n",
      "4              560.0  8.55326      142.688  \n",
      "...              ...      ...          ...  \n",
      "53733          392.0  2.25791      897.740  \n",
      "53734          560.0  2.37134     2019.560  \n",
      "53735          560.0  7.58867      460.793  \n",
      "53736          560.0  8.33206      247.922  \n",
      "53737          560.0  3.56204      373.839  \n",
      "\n",
      "[53738 rows x 8 columns]\n"
     ]
    }
   ],
   "source": [
    "import seaborn as sns\n",
    "# feature_engineered_data_df = feature_engineered_data_df.reset_index()\n",
    "# aflow_df = aflow_df.reset_index()\n",
    "\n",
    "print(type(aflow_df.compound[0]))\n",
    "print(feature_engineered_data_df_with_compound.columns)\n",
    "feature_engineered_data_df_with_compound = feature_engineered_data_df_with_compound.rename(\n",
    "    columns={\"compound_name\": \"compound\"})\n",
    "combined_df = pd.merge(feature_engineered_data_df_with_compound, aflow_df, on='compound', how='outer')\n",
    "\n",
    "print(combined_df.columns)\n",
    "combined_df = combined_df.drop(\n",
    "    columns=['aurl', 'ldau_type', 'auid', 'compound', 'spacegroup_relax', 'Pearson_symbol_relax',\n",
    "             'catalog', 'dft_type', 'energy_atom', 'level_0', 'index'])\n",
    "print(combined_df.columns)\n",
    "\n",
    "print(combined_df)\n"
   ]
  },
  {
   "cell_type": "code",
   "execution_count": 94,
   "id": "6f91b1f9",
   "metadata": {},
   "outputs": [
    {
     "data": {
      "text/plain": [
       "<AxesSubplot:title={'center':'Correlation Plot'}>"
      ]
     },
     "execution_count": 94,
     "metadata": {},
     "output_type": "execute_result"
    },
    {
     "data": {
      "image/png": "[encoded data removed]",
      "text/plain": [
       "<Figure size 576x432 with 2 Axes>"
      ]
     },
     "metadata": {
      "needs_background": "light"
     },
     "output_type": "display_data"
    }
   ],
   "source": [
    "fig, ax = plt.subplots(figsize=(8, 6))\n",
    "plt.title(\"Correlation Plot\")\n",
    "sns.heatmap(combined_df)"
   ]
  },
  {
   "cell_type": "code",
   "execution_count": null,
   "id": "d2ceea0c",
   "metadata": {},
   "outputs": [],
   "source": []
  }
 ],
 "metadata": {
  "kernelspec": {
   "display_name": "Python 3",
   "language": "python",
   "name": "python3"
  },
  "language_info": {
   "codemirror_mode": {
    "name": "ipython",
    "version": 3
   },
   "file_extension": ".py",
   "mimetype": "text/x-python",
   "name": "python",
   "nbconvert_exporter": "python",
   "pygments_lexer": "ipython3",
   "version": "3.6.9"
  }
 },
 "nbformat": 4,
 "nbformat_minor": 5
}
