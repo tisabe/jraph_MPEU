{
 "cells": [
  {
   "cell_type": "code",
   "execution_count": 1,
   "id": "4c6b0915",
   "metadata": {},
   "outputs": [],
   "source": [
    "import pandas as pd\n",
    "rod_df = pd.read_csv('/home/dts/Documents/hu/jraph_MPEU/other_models/mofs/rod_data.csv')"
   ]
  },
  {
   "cell_type": "code",
   "execution_count": 2,
   "id": "a180dad9",
   "metadata": {},
   "outputs": [
    {
     "data": {
      "text/html": [
       "<div>\n",
       "<style scoped>\n",
       "    .dataframe tbody tr th:only-of-type {\n",
       "        vertical-align: middle;\n",
       "    }\n",
       "\n",
       "    .dataframe tbody tr th {\n",
       "        vertical-align: top;\n",
       "    }\n",
       "\n",
       "    .dataframe thead th {\n",
       "        text-align: right;\n",
       "    }\n",
       "</style>\n",
       "<table border=\"1\" class=\"dataframe\">\n",
       "  <thead>\n",
       "    <tr style=\"text-align: right;\">\n",
       "      <th></th>\n",
       "      <th>Atomic_number</th>\n",
       "      <th>Atomic_weight</th>\n",
       "      <th>Atomic_redius</th>\n",
       "      <th>M_electronegativity</th>\n",
       "      <th>Polarizability</th>\n",
       "      <th>Electron_affinity</th>\n",
       "      <th>Allen_en</th>\n",
       "      <th>Ghosh_en</th>\n",
       "      <th>Pauling_en</th>\n",
       "    </tr>\n",
       "  </thead>\n",
       "  <tbody>\n",
       "    <tr>\n",
       "      <th>count</th>\n",
       "      <td>3703.000000</td>\n",
       "      <td>3703.000000</td>\n",
       "      <td>3703.000000</td>\n",
       "      <td>2287.000000</td>\n",
       "      <td>3703.000000</td>\n",
       "      <td>2287.000000</td>\n",
       "      <td>3316.000000</td>\n",
       "      <td>3703.000000</td>\n",
       "      <td>3589.000000</td>\n",
       "    </tr>\n",
       "    <tr>\n",
       "      <th>mean</th>\n",
       "      <td>38.254388</td>\n",
       "      <td>88.160586</td>\n",
       "      <td>1.427567</td>\n",
       "      <td>3.614125</td>\n",
       "      <td>69.482755</td>\n",
       "      <td>0.896195</td>\n",
       "      <td>9.965486</td>\n",
       "      <td>0.152177</td>\n",
       "      <td>1.713254</td>\n",
       "    </tr>\n",
       "    <tr>\n",
       "      <th>std</th>\n",
       "      <td>16.700725</td>\n",
       "      <td>43.753540</td>\n",
       "      <td>0.221950</td>\n",
       "      <td>0.428811</td>\n",
       "      <td>45.772642</td>\n",
       "      <td>0.427763</td>\n",
       "      <td>1.267054</td>\n",
       "      <td>0.020821</td>\n",
       "      <td>0.255311</td>\n",
       "    </tr>\n",
       "    <tr>\n",
       "      <th>min</th>\n",
       "      <td>3.000000</td>\n",
       "      <td>6.940000</td>\n",
       "      <td>0.960000</td>\n",
       "      <td>1.946953</td>\n",
       "      <td>26.140000</td>\n",
       "      <td>-2.400000</td>\n",
       "      <td>3.898000</td>\n",
       "      <td>0.093214</td>\n",
       "      <td>0.790000</td>\n",
       "    </tr>\n",
       "    <tr>\n",
       "      <th>25%</th>\n",
       "      <td>27.000000</td>\n",
       "      <td>58.933194</td>\n",
       "      <td>1.260000</td>\n",
       "      <td>3.373093</td>\n",
       "      <td>46.000000</td>\n",
       "      <td>0.618049</td>\n",
       "      <td>9.063000</td>\n",
       "      <td>0.143236</td>\n",
       "      <td>1.650000</td>\n",
       "    </tr>\n",
       "    <tr>\n",
       "      <th>50%</th>\n",
       "      <td>30.000000</td>\n",
       "      <td>65.380000</td>\n",
       "      <td>1.390000</td>\n",
       "      <td>3.819939</td>\n",
       "      <td>50.000000</td>\n",
       "      <td>1.050000</td>\n",
       "      <td>10.340000</td>\n",
       "      <td>0.150407</td>\n",
       "      <td>1.690000</td>\n",
       "    </tr>\n",
       "    <tr>\n",
       "      <th>75%</th>\n",
       "      <td>48.000000</td>\n",
       "      <td>112.414000</td>\n",
       "      <td>1.450000</td>\n",
       "      <td>3.863190</td>\n",
       "      <td>68.000000</td>\n",
       "      <td>1.235000</td>\n",
       "      <td>10.960000</td>\n",
       "      <td>0.155152</td>\n",
       "      <td>1.900000</td>\n",
       "    </tr>\n",
       "    <tr>\n",
       "      <th>max</th>\n",
       "      <td>95.000000</td>\n",
       "      <td>244.064210</td>\n",
       "      <td>2.440000</td>\n",
       "      <td>4.661350</td>\n",
       "      <td>400.900000</td>\n",
       "      <td>2.308630</td>\n",
       "      <td>11.900000</td>\n",
       "      <td>0.261370</td>\n",
       "      <td>2.400000</td>\n",
       "    </tr>\n",
       "  </tbody>\n",
       "</table>\n",
       "</div>"
      ],
      "text/plain": [
       "       Atomic_number  Atomic_weight  Atomic_redius  M_electronegativity  \\\n",
       "count    3703.000000    3703.000000    3703.000000          2287.000000   \n",
       "mean       38.254388      88.160586       1.427567             3.614125   \n",
       "std        16.700725      43.753540       0.221950             0.428811   \n",
       "min         3.000000       6.940000       0.960000             1.946953   \n",
       "25%        27.000000      58.933194       1.260000             3.373093   \n",
       "50%        30.000000      65.380000       1.390000             3.819939   \n",
       "75%        48.000000     112.414000       1.450000             3.863190   \n",
       "max        95.000000     244.064210       2.440000             4.661350   \n",
       "\n",
       "       Polarizability  Electron_affinity     Allen_en     Ghosh_en  \\\n",
       "count     3703.000000        2287.000000  3316.000000  3703.000000   \n",
       "mean        69.482755           0.896195     9.965486     0.152177   \n",
       "std         45.772642           0.427763     1.267054     0.020821   \n",
       "min         26.140000          -2.400000     3.898000     0.093214   \n",
       "25%         46.000000           0.618049     9.063000     0.143236   \n",
       "50%         50.000000           1.050000    10.340000     0.150407   \n",
       "75%         68.000000           1.235000    10.960000     0.155152   \n",
       "max        400.900000           2.308630    11.900000     0.261370   \n",
       "\n",
       "        Pauling_en  \n",
       "count  3589.000000  \n",
       "mean      1.713254  \n",
       "std       0.255311  \n",
       "min       0.790000  \n",
       "25%       1.650000  \n",
       "50%       1.690000  \n",
       "75%       1.900000  \n",
       "max       2.400000  "
      ]
     },
     "execution_count": 2,
     "metadata": {},
     "output_type": "execute_result"
    }
   ],
   "source": [
    "rod_df.describe()"
   ]
  },
  {
   "cell_type": "code",
   "execution_count": 4,
   "id": "2fc37cb5",
   "metadata": {},
   "outputs": [
    {
     "data": {
      "text/plain": [
       "Index(['Refcode', 'metal', 'Atomic_number', 'Atomic_weight', 'Atomic_redius',\n",
       "       'M_electronegativity', 'Polarizability', 'Electron_affinity',\n",
       "       'Allen_en', 'Ghosh_en', 'Pauling_en', 'Inchikey'],\n",
       "      dtype='object')"
      ]
     },
     "execution_count": 4,
     "metadata": {},
     "output_type": "execute_result"
    }
   ],
   "source": [
    "# TODO: We need non-rod data\n",
    "rod_df.columns\n",
    "\n",
    "rod_df = rod_df.drop(columns=['Refcode'])"
   ]
  },
  {
   "cell_type": "code",
   "execution_count": 15,
   "id": "bd16088d",
   "metadata": {},
   "outputs": [],
   "source": [
    "# We need to encode the inchikey with a one-hot encoding.\n",
    "from sklearn.preprocessing import OneHotEncoder\n",
    "enc = OneHotEncoder(handle_unknown='ignore')\n",
    "transformed = enc.fit_transform(rod_df['Inchikey'].values.reshape(-1,1))\n",
    "# 1274 unique organic linkers. 3703 rows (rods) in the csv."
   ]
  },
  {
   "cell_type": "code",
   "execution_count": 16,
   "id": "0f05d9e6",
   "metadata": {},
   "outputs": [
    {
     "data": {
      "text/plain": [
       "array([[0., 0., 0., ..., 0., 0., 0.],\n",
       "       [0., 0., 0., ..., 0., 0., 0.],\n",
       "       [0., 0., 0., ..., 0., 0., 0.],\n",
       "       ...,\n",
       "       [0., 0., 0., ..., 0., 0., 0.],\n",
       "       [0., 0., 0., ..., 0., 0., 0.],\n",
       "       [0., 0., 0., ..., 0., 0., 0.]])"
      ]
     },
     "execution_count": 16,
     "metadata": {},
     "output_type": "execute_result"
    }
   ],
   "source": [
    "transformed.toarray()"
   ]
  },
  {
   "cell_type": "code",
   "execution_count": 17,
   "id": "0a39aec9",
   "metadata": {},
   "outputs": [
    {
     "ename": "ValueError",
     "evalue": "Specifying the columns using strings is only supported for pandas DataFrames",
     "output_type": "error",
     "traceback": [
      "\u001b[0;31m---------------------------------------------------------------------------\u001b[0m",
      "\u001b[0;31mAttributeError\u001b[0m                            Traceback (most recent call last)",
      "\u001b[0;32m~/Documents/hu/jraph_MPEU/venv/lib/python3.6/site-packages/sklearn/utils/__init__.py\u001b[0m in \u001b[0;36m_get_column_indices\u001b[0;34m(X, key)\u001b[0m\n\u001b[1;32m    373\u001b[0m         \u001b[0;32mtry\u001b[0m\u001b[0;34m:\u001b[0m\u001b[0;34m\u001b[0m\u001b[0;34m\u001b[0m\u001b[0m\n\u001b[0;32m--> 374\u001b[0;31m             \u001b[0mall_columns\u001b[0m \u001b[0;34m=\u001b[0m \u001b[0mX\u001b[0m\u001b[0;34m.\u001b[0m\u001b[0mcolumns\u001b[0m\u001b[0;34m\u001b[0m\u001b[0;34m\u001b[0m\u001b[0m\n\u001b[0m\u001b[1;32m    375\u001b[0m         \u001b[0;32mexcept\u001b[0m \u001b[0mAttributeError\u001b[0m\u001b[0;34m:\u001b[0m\u001b[0;34m\u001b[0m\u001b[0;34m\u001b[0m\u001b[0m\n",
      "\u001b[0;31mAttributeError\u001b[0m: 'numpy.ndarray' object has no attribute 'columns'",
      "\nDuring handling of the above exception, another exception occurred:\n",
      "\u001b[0;31mValueError\u001b[0m                                Traceback (most recent call last)",
      "\u001b[0;32m<ipython-input-17-540362b8d3c0>\u001b[0m in \u001b[0;36m<module>\u001b[0;34m\u001b[0m\n\u001b[1;32m      5\u001b[0m     remainder='passthrough')\n\u001b[1;32m      6\u001b[0m \u001b[0;34m\u001b[0m\u001b[0m\n\u001b[0;32m----> 7\u001b[0;31m \u001b[0mtransformed\u001b[0m \u001b[0;34m=\u001b[0m \u001b[0mtransformer\u001b[0m\u001b[0;34m.\u001b[0m\u001b[0mfit_transform\u001b[0m\u001b[0;34m(\u001b[0m\u001b[0mrod_df\u001b[0m\u001b[0;34m[\u001b[0m\u001b[0;34m'Inchikey'\u001b[0m\u001b[0;34m]\u001b[0m\u001b[0;34m.\u001b[0m\u001b[0mvalues\u001b[0m\u001b[0;34m.\u001b[0m\u001b[0mreshape\u001b[0m\u001b[0;34m(\u001b[0m\u001b[0;34m-\u001b[0m\u001b[0;36m1\u001b[0m\u001b[0;34m,\u001b[0m\u001b[0;36m1\u001b[0m\u001b[0;34m)\u001b[0m\u001b[0;34m)\u001b[0m\u001b[0;34m\u001b[0m\u001b[0;34m\u001b[0m\u001b[0m\n\u001b[0m\u001b[1;32m      8\u001b[0m transformed_df = pd.DataFrame(\n\u001b[1;32m      9\u001b[0m     \u001b[0mrod_df\u001b[0m\u001b[0;34m,\u001b[0m\u001b[0;34m\u001b[0m\u001b[0;34m\u001b[0m\u001b[0m\n",
      "\u001b[0;32m~/Documents/hu/jraph_MPEU/venv/lib/python3.6/site-packages/sklearn/compose/_column_transformer.py\u001b[0m in \u001b[0;36mfit_transform\u001b[0;34m(self, X, y)\u001b[0m\n\u001b[1;32m    503\u001b[0m         \u001b[0mself\u001b[0m\u001b[0;34m.\u001b[0m\u001b[0m_validate_transformers\u001b[0m\u001b[0;34m(\u001b[0m\u001b[0;34m)\u001b[0m\u001b[0;34m\u001b[0m\u001b[0;34m\u001b[0m\u001b[0m\n\u001b[1;32m    504\u001b[0m         \u001b[0mself\u001b[0m\u001b[0;34m.\u001b[0m\u001b[0m_validate_column_callables\u001b[0m\u001b[0;34m(\u001b[0m\u001b[0mX\u001b[0m\u001b[0;34m)\u001b[0m\u001b[0;34m\u001b[0m\u001b[0;34m\u001b[0m\u001b[0m\n\u001b[0;32m--> 505\u001b[0;31m         \u001b[0mself\u001b[0m\u001b[0;34m.\u001b[0m\u001b[0m_validate_remainder\u001b[0m\u001b[0;34m(\u001b[0m\u001b[0mX\u001b[0m\u001b[0;34m)\u001b[0m\u001b[0;34m\u001b[0m\u001b[0;34m\u001b[0m\u001b[0m\n\u001b[0m\u001b[1;32m    506\u001b[0m \u001b[0;34m\u001b[0m\u001b[0m\n\u001b[1;32m    507\u001b[0m         \u001b[0mresult\u001b[0m \u001b[0;34m=\u001b[0m \u001b[0mself\u001b[0m\u001b[0;34m.\u001b[0m\u001b[0m_fit_transform\u001b[0m\u001b[0;34m(\u001b[0m\u001b[0mX\u001b[0m\u001b[0;34m,\u001b[0m \u001b[0my\u001b[0m\u001b[0;34m,\u001b[0m \u001b[0m_fit_transform_one\u001b[0m\u001b[0;34m)\u001b[0m\u001b[0;34m\u001b[0m\u001b[0;34m\u001b[0m\u001b[0m\n",
      "\u001b[0;32m~/Documents/hu/jraph_MPEU/venv/lib/python3.6/site-packages/sklearn/compose/_column_transformer.py\u001b[0m in \u001b[0;36m_validate_remainder\u001b[0;34m(self, X)\u001b[0m\n\u001b[1;32m    330\u001b[0m         \u001b[0mcols\u001b[0m \u001b[0;34m=\u001b[0m \u001b[0;34m[\u001b[0m\u001b[0;34m]\u001b[0m\u001b[0;34m\u001b[0m\u001b[0;34m\u001b[0m\u001b[0m\n\u001b[1;32m    331\u001b[0m         \u001b[0;32mfor\u001b[0m \u001b[0mcolumns\u001b[0m \u001b[0;32min\u001b[0m \u001b[0mself\u001b[0m\u001b[0;34m.\u001b[0m\u001b[0m_columns\u001b[0m\u001b[0;34m:\u001b[0m\u001b[0;34m\u001b[0m\u001b[0;34m\u001b[0m\u001b[0m\n\u001b[0;32m--> 332\u001b[0;31m             \u001b[0mcols\u001b[0m\u001b[0;34m.\u001b[0m\u001b[0mextend\u001b[0m\u001b[0;34m(\u001b[0m\u001b[0m_get_column_indices\u001b[0m\u001b[0;34m(\u001b[0m\u001b[0mX\u001b[0m\u001b[0;34m,\u001b[0m \u001b[0mcolumns\u001b[0m\u001b[0;34m)\u001b[0m\u001b[0;34m)\u001b[0m\u001b[0;34m\u001b[0m\u001b[0;34m\u001b[0m\u001b[0m\n\u001b[0m\u001b[1;32m    333\u001b[0m \u001b[0;34m\u001b[0m\u001b[0m\n\u001b[1;32m    334\u001b[0m         \u001b[0mremaining_idx\u001b[0m \u001b[0;34m=\u001b[0m \u001b[0msorted\u001b[0m\u001b[0;34m(\u001b[0m\u001b[0mset\u001b[0m\u001b[0;34m(\u001b[0m\u001b[0mrange\u001b[0m\u001b[0;34m(\u001b[0m\u001b[0mself\u001b[0m\u001b[0;34m.\u001b[0m\u001b[0m_n_features\u001b[0m\u001b[0;34m)\u001b[0m\u001b[0;34m)\u001b[0m \u001b[0;34m-\u001b[0m \u001b[0mset\u001b[0m\u001b[0;34m(\u001b[0m\u001b[0mcols\u001b[0m\u001b[0;34m)\u001b[0m\u001b[0;34m)\u001b[0m\u001b[0;34m\u001b[0m\u001b[0;34m\u001b[0m\u001b[0m\n",
      "\u001b[0;32m~/Documents/hu/jraph_MPEU/venv/lib/python3.6/site-packages/sklearn/utils/__init__.py\u001b[0m in \u001b[0;36m_get_column_indices\u001b[0;34m(X, key)\u001b[0m\n\u001b[1;32m    374\u001b[0m             \u001b[0mall_columns\u001b[0m \u001b[0;34m=\u001b[0m \u001b[0mX\u001b[0m\u001b[0;34m.\u001b[0m\u001b[0mcolumns\u001b[0m\u001b[0;34m\u001b[0m\u001b[0;34m\u001b[0m\u001b[0m\n\u001b[1;32m    375\u001b[0m         \u001b[0;32mexcept\u001b[0m \u001b[0mAttributeError\u001b[0m\u001b[0;34m:\u001b[0m\u001b[0;34m\u001b[0m\u001b[0;34m\u001b[0m\u001b[0m\n\u001b[0;32m--> 376\u001b[0;31m             raise ValueError(\"Specifying the columns using strings is only \"\n\u001b[0m\u001b[1;32m    377\u001b[0m                              \"supported for pandas DataFrames\")\n\u001b[1;32m    378\u001b[0m         \u001b[0;32mif\u001b[0m \u001b[0misinstance\u001b[0m\u001b[0;34m(\u001b[0m\u001b[0mkey\u001b[0m\u001b[0;34m,\u001b[0m \u001b[0mstr\u001b[0m\u001b[0;34m)\u001b[0m\u001b[0;34m:\u001b[0m\u001b[0;34m\u001b[0m\u001b[0;34m\u001b[0m\u001b[0m\n",
      "\u001b[0;31mValueError\u001b[0m: Specifying the columns using strings is only supported for pandas DataFrames"
     ]
    }
   ],
   "source": [
    "from sklearn.compose import make_column_transformer\n",
    "\n",
    "transformer = make_column_transformer(\n",
    "    (OneHotEncoder(), ['Inchikey']),\n",
    "    remainder='passthrough')\n",
    "\n",
    "transformed = transformer.fit_transform(rod_df['Inchikey'].values.reshape(-1,1))\n",
    "transformed_df = pd.DataFrame(\n",
    "    rod_df, \n",
    "    columns=transformer.get_feature_names())\n",
    "\n"
   ]
  },
  {
   "cell_type": "code",
   "execution_count": 9,
   "id": "a1d5ab52",
   "metadata": {},
   "outputs": [],
   "source": [
    "from seaborn import load_dataset\n",
    "\n",
    "df = load_dataset('penguins')"
   ]
  },
  {
   "cell_type": "code",
   "execution_count": 11,
   "id": "7dd15755",
   "metadata": {},
   "outputs": [
    {
     "data": {
      "text/plain": [
       "array(['Torgersen', 'Torgersen', 'Torgersen', 'Torgersen', 'Torgersen',\n",
       "       'Torgersen', 'Torgersen', 'Torgersen', 'Torgersen', 'Torgersen',\n",
       "       'Torgersen', 'Torgersen', 'Torgersen', 'Torgersen', 'Torgersen',\n",
       "       'Torgersen', 'Torgersen', 'Torgersen', 'Torgersen', 'Torgersen',\n",
       "       'Biscoe', 'Biscoe', 'Biscoe', 'Biscoe', 'Biscoe', 'Biscoe',\n",
       "       'Biscoe', 'Biscoe', 'Biscoe', 'Biscoe', 'Dream', 'Dream', 'Dream',\n",
       "       'Dream', 'Dream', 'Dream', 'Dream', 'Dream', 'Dream', 'Dream',\n",
       "       'Dream', 'Dream', 'Dream', 'Dream', 'Dream', 'Dream', 'Dream',\n",
       "       'Dream', 'Dream', 'Dream', 'Biscoe', 'Biscoe', 'Biscoe', 'Biscoe',\n",
       "       'Biscoe', 'Biscoe', 'Biscoe', 'Biscoe', 'Biscoe', 'Biscoe',\n",
       "       'Biscoe', 'Biscoe', 'Biscoe', 'Biscoe', 'Biscoe', 'Biscoe',\n",
       "       'Biscoe', 'Biscoe', 'Torgersen', 'Torgersen', 'Torgersen',\n",
       "       'Torgersen', 'Torgersen', 'Torgersen', 'Torgersen', 'Torgersen',\n",
       "       'Torgersen', 'Torgersen', 'Torgersen', 'Torgersen', 'Torgersen',\n",
       "       'Torgersen', 'Torgersen', 'Torgersen', 'Dream', 'Dream', 'Dream',\n",
       "       'Dream', 'Dream', 'Dream', 'Dream', 'Dream', 'Dream', 'Dream',\n",
       "       'Dream', 'Dream', 'Dream', 'Dream', 'Dream', 'Dream', 'Biscoe',\n",
       "       'Biscoe', 'Biscoe', 'Biscoe', 'Biscoe', 'Biscoe', 'Biscoe',\n",
       "       'Biscoe', 'Biscoe', 'Biscoe', 'Biscoe', 'Biscoe', 'Biscoe',\n",
       "       'Biscoe', 'Biscoe', 'Biscoe', 'Torgersen', 'Torgersen',\n",
       "       'Torgersen', 'Torgersen', 'Torgersen', 'Torgersen', 'Torgersen',\n",
       "       'Torgersen', 'Torgersen', 'Torgersen', 'Torgersen', 'Torgersen',\n",
       "       'Torgersen', 'Torgersen', 'Torgersen', 'Torgersen', 'Dream',\n",
       "       'Dream', 'Dream', 'Dream', 'Dream', 'Dream', 'Dream', 'Dream',\n",
       "       'Dream', 'Dream', 'Dream', 'Dream', 'Dream', 'Dream', 'Dream',\n",
       "       'Dream', 'Dream', 'Dream', 'Dream', 'Dream', 'Dream', 'Dream',\n",
       "       'Dream', 'Dream', 'Dream', 'Dream', 'Dream', 'Dream', 'Dream',\n",
       "       'Dream', 'Dream', 'Dream', 'Dream', 'Dream', 'Dream', 'Dream',\n",
       "       'Dream', 'Dream', 'Dream', 'Dream', 'Dream', 'Dream', 'Dream',\n",
       "       'Dream', 'Dream', 'Dream', 'Dream', 'Dream', 'Dream', 'Dream',\n",
       "       'Dream', 'Dream', 'Dream', 'Dream', 'Dream', 'Dream', 'Dream',\n",
       "       'Dream', 'Dream', 'Dream', 'Dream', 'Dream', 'Dream', 'Dream',\n",
       "       'Dream', 'Dream', 'Dream', 'Dream', 'Dream', 'Dream', 'Dream',\n",
       "       'Dream', 'Dream', 'Dream', 'Dream', 'Dream', 'Dream', 'Dream',\n",
       "       'Dream', 'Dream', 'Dream', 'Dream', 'Dream', 'Dream', 'Dream',\n",
       "       'Dream', 'Dream', 'Dream', 'Biscoe', 'Biscoe', 'Biscoe', 'Biscoe',\n",
       "       'Biscoe', 'Biscoe', 'Biscoe', 'Biscoe', 'Biscoe', 'Biscoe',\n",
       "       'Biscoe', 'Biscoe', 'Biscoe', 'Biscoe', 'Biscoe', 'Biscoe',\n",
       "       'Biscoe', 'Biscoe', 'Biscoe', 'Biscoe', 'Biscoe', 'Biscoe',\n",
       "       'Biscoe', 'Biscoe', 'Biscoe', 'Biscoe', 'Biscoe', 'Biscoe',\n",
       "       'Biscoe', 'Biscoe', 'Biscoe', 'Biscoe', 'Biscoe', 'Biscoe',\n",
       "       'Biscoe', 'Biscoe', 'Biscoe', 'Biscoe', 'Biscoe', 'Biscoe',\n",
       "       'Biscoe', 'Biscoe', 'Biscoe', 'Biscoe', 'Biscoe', 'Biscoe',\n",
       "       'Biscoe', 'Biscoe', 'Biscoe', 'Biscoe', 'Biscoe', 'Biscoe',\n",
       "       'Biscoe', 'Biscoe', 'Biscoe', 'Biscoe', 'Biscoe', 'Biscoe',\n",
       "       'Biscoe', 'Biscoe', 'Biscoe', 'Biscoe', 'Biscoe', 'Biscoe',\n",
       "       'Biscoe', 'Biscoe', 'Biscoe', 'Biscoe', 'Biscoe', 'Biscoe',\n",
       "       'Biscoe', 'Biscoe', 'Biscoe', 'Biscoe', 'Biscoe', 'Biscoe',\n",
       "       'Biscoe', 'Biscoe', 'Biscoe', 'Biscoe', 'Biscoe', 'Biscoe',\n",
       "       'Biscoe', 'Biscoe', 'Biscoe', 'Biscoe', 'Biscoe', 'Biscoe',\n",
       "       'Biscoe', 'Biscoe', 'Biscoe', 'Biscoe', 'Biscoe', 'Biscoe',\n",
       "       'Biscoe', 'Biscoe', 'Biscoe', 'Biscoe', 'Biscoe', 'Biscoe',\n",
       "       'Biscoe', 'Biscoe', 'Biscoe', 'Biscoe', 'Biscoe', 'Biscoe',\n",
       "       'Biscoe', 'Biscoe', 'Biscoe', 'Biscoe', 'Biscoe', 'Biscoe',\n",
       "       'Biscoe', 'Biscoe', 'Biscoe', 'Biscoe', 'Biscoe', 'Biscoe',\n",
       "       'Biscoe', 'Biscoe', 'Biscoe', 'Biscoe', 'Biscoe', 'Biscoe'],\n",
       "      dtype=object)"
      ]
     },
     "execution_count": 11,
     "metadata": {},
     "output_type": "execute_result"
    }
   ],
   "source": [
    "df['island'].to_numpy()"
   ]
  },
  {
   "cell_type": "code",
   "execution_count": null,
   "id": "7869e7a3",
   "metadata": {},
   "outputs": [],
   "source": []
  }
 ],
 "metadata": {
  "kernelspec": {
   "display_name": "Python 3",
   "language": "python",
   "name": "python3"
  },
  "language_info": {
   "codemirror_mode": {
    "name": "ipython",
    "version": 3
   },
   "file_extension": ".py",
   "mimetype": "text/x-python",
   "name": "python",
   "nbconvert_exporter": "python",
   "pygments_lexer": "ipython3",
   "version": "3.6.9"
  }
 },
 "nbformat": 4,
 "nbformat_minor": 5
}
